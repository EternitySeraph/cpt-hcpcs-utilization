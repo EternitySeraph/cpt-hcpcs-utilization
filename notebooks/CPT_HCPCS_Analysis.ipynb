import pandas as pd
import numpy as np

# Load CPT/HCPCS dataset
df = pd.read_csv("data/cpt4.csv")

df.info()
